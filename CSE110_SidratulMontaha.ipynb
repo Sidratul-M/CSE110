{
  "nbformat": 4,
  "nbformat_minor": 0,
  "metadata": {
    "colab": {
      "provenance": []
    },
    "kernelspec": {
      "name": "python3",
      "display_name": "Python 3"
    },
    "language_info": {
      "name": "python"
    }
  },
  "cells": [
    {
      "cell_type": "code",
      "metadata": {
        "colab": {
          "base_uri": "https://localhost:8080/"
        },
        "id": "3YV3luLrY868",
        "outputId": "155289d7-1f16-4227-c92d-d420bfeb4090"
      },
      "source": [
        "ip=input('Please enter the names and numbers here : ')\n",
        "list1=ip.split(' ')\n",
        "list2=[]\n",
        "for e in list1:\n",
        "    if e=='' or e==' ':\n",
        "        pass\n",
        "    else:\n",
        "        list2.append(e)\n",
        "list_name=[]\n",
        "list_num=[]\n",
        "dict1={}\n",
        "for i in range(len(list2)):\n",
        "    if i%2==0:\n",
        "        list_name.append(list2[i])\n",
        "    else:\n",
        "        list_num.append(list2[i])\n",
        "\n",
        "for i in range(len(list_name)):\n",
        "    dict1[list_name[i]]=list_num[i]\n",
        "\n",
        "list2=sorted(list_name)\n",
        "list_Alpha=[]\n",
        "for j in list2:\n",
        "    first=j[0]\n",
        "    if first not in list_Alpha:\n",
        "        list_Alpha.append(first)\n",
        "list3=sorted(list_Alpha)\n",
        "dict_F={}\n",
        "for k in list3:\n",
        "    dict_sub={}\n",
        "    for x in list2:\n",
        "        if x[0]==k:\n",
        "           dict_sub[x]=int(dict1[x])\n",
        "    dict_F[k]=dict_sub\n",
        "print(dict_F)"
      ],
      "execution_count": null,
      "outputs": [
        {
          "output_type": "stream",
          "name": "stdout",
          "text": [
            "Please enter the names and numbers here : Bob 01932342392 Alice 01546734123 Britney 01303544535 Aeron 01723454642  Smith 01923457890 Tarek 09663922 Carol 01823456785\n",
            "{'A': {'Aeron': 1723454642, 'Alice': 1546734123}, 'B': {'Bob': 1932342392, 'Britney': 1303544535}, 'C': {'Carol': 1823456785}, 'S': {'Smith': 1923457890}, 'T': {'Tarek': 9663922}}\n"
          ]
        }
      ]
    }
  ]
}