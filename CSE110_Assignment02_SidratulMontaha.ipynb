{
  "cells": [
    {
      "cell_type": "code",
      "execution_count": null,
      "metadata": {
        "id": "_FBJot1wzvRx"
      },
      "outputs": [],
      "source": [
        "#Name: Sidratul Montaha\n",
        "#Assignmen no.: 2"
      ]
    },
    {
      "cell_type": "code",
      "execution_count": null,
      "metadata": {
        "colab": {
          "base_uri": "https://localhost:8080/"
        },
        "id": "2YTJYhFiFiKC",
        "outputId": "e997f128-5fc9-452e-a14e-9de69aee5170"
      },
      "outputs": [
        {
          "data": {
            "text/plain": [
              "0.3"
            ]
          },
          "execution_count": 1,
          "metadata": {},
          "output_type": "execute_result"
        }
      ],
      "source": [
        "#task 1\n",
        "def abrun(f,s):\n",
        "    if s==0 or f%s==0:\n",
        "        return 0\n",
        "    else:\n",
        "        ans=round((f/s)-(f//s),1)\n",
        "        return ans\n",
        "\n",
        "abrun(7,3)"
      ]
    },
    {
      "cell_type": "code",
      "execution_count": null,
      "metadata": {
        "colab": {
          "base_uri": "https://localhost:8080/"
        },
        "id": "kkr7ht3HJtaM",
        "outputId": "ce004b39-34dd-4915-8a86-fb35349cab6e"
      },
      "outputs": [
        {
          "name": "stdout",
          "output_type": "stream",
          "text": [
            "Score is 31.3. You are Obese\n"
          ]
        }
      ],
      "source": [
        "#task 2\n",
        "def BMI(h,w):\n",
        "    h_m=h/100\n",
        "    bmi = round(w/(h_m**2),1)\n",
        "    if bmi< 18.5:\n",
        "       criterion = 'Underweight'\n",
        "    elif 18.5<=bmi<=24.9:\n",
        "       criterion = 'Normal'\n",
        "    elif 25<=bmi<=30:\n",
        "       criterion = 'Overweight'\n",
        "    else:\n",
        "       criterion = 'Obese'\n",
        "    return('Score is {}. You are {}'.format(bmi,criterion))\n",
        "final=BMI(175, 96)\n",
        "print(final)"
      ]
    },
    {
      "cell_type": "code",
      "execution_count": null,
      "metadata": {
        "colab": {
          "base_uri": "https://localhost:8080/"
        },
        "id": "dLNp4Ne3S_KP",
        "outputId": "0025779f-4490-4723-848e-d0f529b703ab"
      },
      "outputs": [
        {
          "data": {
            "text/plain": [
              "45"
            ]
          },
          "execution_count": 38,
          "metadata": {},
          "output_type": "execute_result"
        }
      ],
      "source": [
        "#task 3\n",
        "def add_div(min,max,div):\n",
        "    ans=0\n",
        "    for i in range(min,max):\n",
        "        check=i%div\n",
        "        if check==0:\n",
        "            ans+=i\n",
        "    return ans\n",
        "\n",
        "add_div(3, 16, 3)"
      ]
    },
    {
      "cell_type": "code",
      "execution_count": null,
      "metadata": {
        "colab": {
          "base_uri": "https://localhost:8080/"
        },
        "id": "FrAqzg7HUnPc",
        "outputId": "7771e286-b917-4ae1-a559-999aec47fb14"
      },
      "outputs": [
        {
          "data": {
            "text/plain": [
              "223.6"
            ]
          },
          "execution_count": 41,
          "metadata": {},
          "output_type": "execute_result"
        }
      ],
      "source": [
        "#task 4\n",
        "def bill(meal,place='Mohakhali'):\n",
        "    dict_1={'BBQ Chicken Cheese Burger':250, 'Beef Burger':170, 'Naga Drums':200}\n",
        "    meal_cost=(dict_1[meal])\n",
        "    total_price=meal_cost + round((meal_cost*8/100),1)\n",
        "    if place=='Mohakhali':\n",
        "        total_price+=40\n",
        "    else:\n",
        "        total_price+=60\n",
        "    return total_price\n",
        "\n",
        "bill('Beef Burger')"
      ]
    },
    {
      "cell_type": "code",
      "execution_count": null,
      "metadata": {
        "colab": {
          "base_uri": "https://localhost:8080/"
        },
        "id": "bMfN3aWxa3NN",
        "outputId": "c137ed45-5696-4c3b-962a-0fdf54d3b6a6"
      },
      "outputs": [
        {
          "name": "stdout",
          "output_type": "stream",
          "text": [
            "Unchanged: bob@sheba.xyz\n"
          ]
        }
      ],
      "source": [
        "#task 5\n",
        "def replace_domain(mail, new_dom, old_dom='kaaj.com'):\n",
        "    if old_dom in mail:\n",
        "        list1 = mail.split('@')\n",
        "        new_mail = list1[0] + '@' + new_dom\n",
        "        return('Changed: {}'.format(new_mail))\n",
        "    elif new_dom in mail:\n",
        "        return('Unchanged: {}'.format(mail))\n",
        "mail=replace_domain('bob@sheba.xyz', 'sheba.xyz')\n",
        "print(mail)"
      ]
    },
    {
      "cell_type": "code",
      "execution_count": null,
      "metadata": {
        "colab": {
          "base_uri": "https://localhost:8080/"
        },
        "id": "Iuia0O7Ve5PD",
        "outputId": "27508fa9-43f4-4f5b-cfa6-e5aba92d5fc0"
      },
      "outputs": [
        {
          "name": "stdout",
          "output_type": "stream",
          "text": [
            "Please enter your name : Arshy\n",
            "Vowels: A. Total number of vowels: 1\n"
          ]
        }
      ],
      "source": [
        "#task 6\n",
        "def vowel_counter(name):\n",
        "    count=0\n",
        "    list_vowels=['a','e','i','o','u']\n",
        "    list2=[]\n",
        "    vowels=''\n",
        "    for i in name:\n",
        "        if i.lower() in list_vowels:\n",
        "            count+=1\n",
        "            vowels+=i+', '\n",
        "            list2.append(i)\n",
        "    if count!=0:\n",
        "        print('Vowels: {}. Total number of vowels: {}'.format(vowels[:-2],count))\n",
        "    else:\n",
        "        print('No vowels in the name')\n",
        "\n",
        "ip=input('Please enter your name : ')\n",
        "vowel_counter(ip)"
      ]
    },
    {
      "cell_type": "code",
      "execution_count": null,
      "metadata": {
        "colab": {
          "base_uri": "https://localhost:8080/"
        },
        "id": "aN7GDfgtiS-4",
        "outputId": "961b3a82-3fcf-4e47-9506-66de0bb16882"
      },
      "outputs": [
        {
          "name": "stdout",
          "output_type": "stream",
          "text": [
            "Palindrome\n"
          ]
        }
      ],
      "source": [
        "#task 7\n",
        "def palindrome(string):\n",
        "    new_string=''\n",
        "    for i in string:\n",
        "        if i!=' ':\n",
        "            new_string+=i.lower()\n",
        "\n",
        "    rev=new_string[-1::-1]\n",
        "\n",
        "    if rev==new_string:\n",
        "        print('Palindrome')\n",
        "    else:\n",
        "        print('Not a palindrome')\n",
        "\n",
        "palindrome('Nurses run')"
      ]
    },
    {
      "cell_type": "code",
      "execution_count": null,
      "metadata": {
        "colab": {
          "base_uri": "https://localhost:8080/"
        },
        "id": "JfAucqQCiV7b",
        "outputId": "3538b120-452f-4db2-ca1a-600c46b993b1"
      },
      "outputs": [
        {
          "name": "stdout",
          "output_type": "stream",
          "text": [
            "Please enter the number of days :4000\n",
            "10 years, 11 months and 20 days\n"
          ]
        }
      ],
      "source": [
        "#task 8\n",
        "def YearCounter(days):\n",
        "    year = days//365\n",
        "    remain = days%365\n",
        "    month = remain//30\n",
        "    day = remain%30\n",
        "    print('{} years, {} months and {} days'.format(year, month, day))\n",
        "\n",
        "ip=int(input('Please enter the number of days :'))\n",
        "YearCounter(ip)"
      ]
    },
    {
      "cell_type": "code",
      "execution_count": null,
      "metadata": {
        "colab": {
          "base_uri": "https://localhost:8080/",
          "height": 72
        },
        "id": "oKUJdlD2iYKy",
        "outputId": "c8782809-a1a7-4537-a690-8b08eb223978"
      },
      "outputs": [
        {
          "name": "stdout",
          "output_type": "stream",
          "text": [
            "Please enter the paragraph :my favourite animal is a dog. a dog has sharp teeth so that it can eat flesh very easily. do you know my pet dog’s name? i love my pet very much.\n"
          ]
        },
        {
          "data": {
            "application/vnd.google.colaboratory.intrinsic+json": {
              "type": "string"
            },
            "text/plain": [
              "'My favourite animal is a dog. A dog has sharp teeth so that it can eat flesh very easily. Do you know my pet dog’s name? I love my pet very much.'"
            ]
          },
          "execution_count": 51,
          "metadata": {},
          "output_type": "execute_result"
        }
      ],
      "source": [
        "#task 9\n",
        "def Capitalizer(text):\n",
        "    correct=text[0].upper()\n",
        "    for i in range(1,len(text)):\n",
        "        if text[i-1]==' ' and text[i-2]=='.' or text[i-2]=='?' or text[i-2]=='!':\n",
        "            correct+=text[i].upper()\n",
        "        elif text[i]=='i' and text[i-1]==' ' and text[i+1]==' ':\n",
        "            correct+=text[i].upper()\n",
        "        else:\n",
        "            correct+=text[i].lower()\n",
        "    return(correct)\n",
        "ip=input('Please enter the paragraph :  ')\n",
        "Capitalizer(ip)"
      ]
    }
  ],
  "metadata": {
    "colab": {
      "provenance": []
    },
    "kernelspec": {
      "display_name": "Python 3",
      "name": "python3"
    },
    "language_info": {
      "name": "python"
    }
  },
  "nbformat": 4,
  "nbformat_minor": 0
}
