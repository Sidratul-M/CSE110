{
  "nbformat": 4,
  "nbformat_minor": 0,
  "metadata": {
    "colab": {
      "provenance": []
    },
    "kernelspec": {
      "name": "python3",
      "display_name": "Python 3"
    },
    "language_info": {
      "name": "python"
    }
  },
  "cells": [
    {
      "cell_type": "code",
      "metadata": {
        "colab": {
          "base_uri": "https://localhost:8080/"
        },
        "id": "_imvBXeP3xGx",
        "outputId": "0f90056e-4f7a-45c6-b7da-f15376cfd663"
      },
      "source": [
        "class Player:\n",
        "     team_run=0               #class or static variable\n",
        "     def __init__(self,run):\n",
        "         self.run=run  #instance variable\n",
        "     def hit_four(self):\n",
        "         self.run+=4\n",
        "         Player.team_run+=4 #calling with class referance\n",
        "     def hit_six(self):\n",
        "         self.run+=6\n",
        "         Player.team_run+=6\n",
        "         self.team_run+=6  #if call with instance referance then see diff in dict output\n",
        "print(Player.team_run) #calling class variable\n",
        "Sakib=Player(0)\n",
        "Tamim=Player(0)\n",
        "Sakib.hit_six()\n",
        "Sakib.hit_four()\n",
        "Tamim.hit_four()\n",
        "Tamim.hit_four()\n",
        "print(Player.team_run)\n",
        "print('Sakib', Sakib.run)\n",
        "print('Tamim', Tamim.run)\n",
        "print('Tamim', Tamim.__dict__)   #new***\n",
        "print('Sakib', Sakib.__dict__)   #new###"
      ],
      "execution_count": null,
      "outputs": [
        {
          "output_type": "stream",
          "name": "stdout",
          "text": [
            "0\n",
            "18\n",
            "Sakib 10\n",
            "Tamim 8\n",
            "Tamim {'run': 8}\n",
            "Sakib {'run': 10, 'team_run': 12}\n"
          ]
        }
      ]
    },
    {
      "cell_type": "code",
      "metadata": {
        "colab": {
          "base_uri": "https://localhost:8080/"
        },
        "id": "GfavcdUoOe5P",
        "outputId": "2b15023d-44d8-429f-cb07-12f03cc88172"
      },
      "source": [
        "class Student:\n",
        "    def __init__(self,name,id,dept):\n",
        "        self.name=name\n",
        "        self.id=id\n",
        "        self.dept=dept\n",
        "        print(self.name,'object created')\n",
        "\n",
        "    #instanceMethod\n",
        "    def instanceMethod(self): #NO decorator***\n",
        "        print(self.name,'with id', self.id,' and ept',self.dept)\n",
        "\n",
        "    #staticMethod\n",
        "    @staticmethod\n",
        "    def anyname():#no self, nothing\n",
        "        print('this is a static method')\n",
        "        student_num=120  #can not change the variable\n",
        "    #class Method\n",
        "    @classmethod\n",
        "    def anything(cls):\n",
        "        print('This is a class method')\n",
        "        cls.student_num=100 #****can change class variable***\n",
        "        cls.anyname()# can call static method inside the class method and can change the variable\n",
        "st1=Student('Alice',12345,'CSE')\n",
        "st2=Student('Bob',6789,'CSE')\n",
        "st1.anything()      #can call with both with or without object referance ***CLASS***\n",
        "st1.anyname()       #can call with both with or without object referance ***STATIC***\n",
        "Student.anyname()   #doesn't matter if object is created or not ***STATIC***\n",
        "\n",
        "Student.anything()  #doesn't matter if object is created or not ***CLASS***\n"
      ],
      "execution_count": null,
      "outputs": [
        {
          "output_type": "stream",
          "name": "stdout",
          "text": [
            "Alice object created\n",
            "Bob object created\n",
            "This is a class method\n",
            "this is a static method\n",
            "this is a static method\n",
            "This is a class method\n"
          ]
        }
      ]
    }
  ]
}